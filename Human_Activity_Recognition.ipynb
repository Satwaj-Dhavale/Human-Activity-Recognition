{
  "nbformat": 4,
  "nbformat_minor": 0,
  "metadata": {
    "colab": {
      "name": "Human Activity Recognition.ipynb",
      "provenance": []
    },
    "kernelspec": {
      "name": "python3",
      "display_name": "Python 3"
    }
  },
  "cells": [
    {
      "cell_type": "code",
      "metadata": {
        "id": "qcqAAo_zbvWs",
        "colab_type": "code",
        "colab": {}
      },
      "source": [
        "import numpy as np\n",
        "import pandas as pd\n",
        "import matplotlib.pyplot as plt\n",
        "%matplotlib inline"
      ],
      "execution_count": 77,
      "outputs": []
    },
    {
      "cell_type": "code",
      "metadata": {
        "id": "YxKLWldac9Q9",
        "colab_type": "code",
        "colab": {}
      },
      "source": [
        "from sklearn.metrics import accuracy_score\n",
        "from sklearn.preprocessing import StandardScaler, LabelEncoder\n",
        "from sklearn.decomposition import PCA\n",
        "from sklearn.metrics import confusion_matrix, accuracy_score"
      ],
      "execution_count": 78,
      "outputs": []
    },
    {
      "cell_type": "code",
      "metadata": {
        "id": "mjohr9nm3LZX",
        "colab_type": "code",
        "colab": {}
      },
      "source": [
        "from keras.layers import Dense, Dropout\n",
        "from keras.models import Sequential"
      ],
      "execution_count": 79,
      "outputs": []
    },
    {
      "cell_type": "code",
      "metadata": {
        "id": "cH0_k17PfMqc",
        "colab_type": "code",
        "colab": {}
      },
      "source": [
        "train = pd.read_csv('/content/train.csv')\n",
        "test = pd.read_csv('/content/test.csv')\n",
        "\n",
        "X_train = train.iloc[:,:-2]\n",
        "y_train = train['Activity']\n",
        "\n",
        "X_test= test.iloc[:,:-2]\n",
        "y_test = test['Activity']"
      ],
      "execution_count": 80,
      "outputs": []
    },
    {
      "cell_type": "code",
      "metadata": {
        "id": "DhwsRwnBgDzw",
        "colab_type": "code",
        "colab": {
          "base_uri": "https://localhost:8080/",
          "height": 303
        },
        "outputId": "660fd4a1-2da7-4c81-a7bf-dafd1ea278be"
      },
      "source": [
        "plt.figure(figsize=(15,5))\n",
        "plt.pie(np.array(y_train.value_counts()), labels=y_train.unique())\n",
        "plt.show()"
      ],
      "execution_count": 81,
      "outputs": [
        {
          "output_type": "display_data",
          "data": {
            "image/png": "[encoded data removed]",
            "text/plain": [
              "<Figure size 1080x360 with 1 Axes>"
            ]
          },
          "metadata": {
            "tags": []
          }
        }
      ]
    },
    {
      "cell_type": "code",
      "metadata": {
        "id": "dqzP1g7M0w4r",
        "colab_type": "code",
        "colab": {}
      },
      "source": [
        "sc = StandardScaler()\n",
        "X_train = sc.fit_transform(X_train)\n",
        "X_test = sc.transform(X_test)\n",
        "\n",
        "lb = LabelEncoder()\n",
        "y_train = pd.get_dummies(lb.fit_transform(y_train)).values\n",
        "y_test = pd.get_dummies(lb.transform(y_test)).values\n",
        "\n",
        "pca = PCA(n_components=None)\n",
        "X_train = pca.fit_transform(X_train)\n",
        "X_test = pca.transform(X_test)\n",
        "\n",
        "# explained_variance_ratio = pca.explained_variance_ratio_"
      ],
      "execution_count": 82,
      "outputs": []
    },
    {
      "cell_type": "code",
      "metadata": {
        "id": "Dw4eHL3A3FZe",
        "colab_type": "code",
        "colab": {}
      },
      "source": [
        "model = Sequential()\n",
        "model.add(Dense(units=64, activation='relu', kernel_initializer='uniform', input_dim=X_train.shape[1]))\n",
        "model.add(Dense(units=128, activation='relu', kernel_initializer='uniform'))\n",
        "model.add(Dense(units=64, activation='relu', kernel_initializer='uniform'))\n",
        "model.add(Dense(units=6, activation='softmax', kernel_initializer='uniform'))"
      ],
      "execution_count": 83,
      "outputs": []
    },
    {
      "cell_type": "code",
      "metadata": {
        "id": "a-opgPqf5IXN",
        "colab_type": "code",
        "colab": {}
      },
      "source": [
        "model.compile(optimizer='adam',loss='categorical_crossentropy',metrics=['accuracy'])"
      ],
      "execution_count": 84,
      "outputs": []
    },
    {
      "cell_type": "code",
      "metadata": {
        "id": "5fUuZ8LD5ynt",
        "colab_type": "code",
        "colab": {
          "base_uri": "https://localhost:8080/",
          "height": 785
        },
        "outputId": "86a5b31b-59a7-42e0-840d-e9794e364f0b"
      },
      "source": [
        "history = model.fit(X_train, y_train, batch_size=256, epochs=20, \n",
        "                    verbose=1, validation_data=(X_test, y_test) )"
      ],
      "execution_count": 85,
      "outputs": [
        {
          "output_type": "stream",
          "text": [
            "Epoch 1/20\n",
            "29/29 [==============================] - 0s 10ms/step - loss: 1.5555 - accuracy: 0.6404 - val_loss: 1.0389 - val_accuracy: 0.7811\n",
            "Epoch 2/20\n",
            "29/29 [==============================] - 0s 5ms/step - loss: 0.6180 - accuracy: 0.8385 - val_loss: 0.2749 - val_accuracy: 0.9376\n",
            "Epoch 3/20\n",
            "29/29 [==============================] - 0s 5ms/step - loss: 0.1052 - accuracy: 0.9723 - val_loss: 0.1467 - val_accuracy: 0.9450\n",
            "Epoch 4/20\n",
            "29/29 [==============================] - 0s 6ms/step - loss: 0.0433 - accuracy: 0.9859 - val_loss: 0.1625 - val_accuracy: 0.9444\n",
            "Epoch 5/20\n",
            "29/29 [==============================] - 0s 5ms/step - loss: 0.0300 - accuracy: 0.9909 - val_loss: 0.1268 - val_accuracy: 0.9555\n",
            "Epoch 6/20\n",
            "29/29 [==============================] - 0s 5ms/step - loss: 0.0226 - accuracy: 0.9932 - val_loss: 0.1405 - val_accuracy: 0.9532\n",
            "Epoch 7/20\n",
            "29/29 [==============================] - 0s 5ms/step - loss: 0.0175 - accuracy: 0.9944 - val_loss: 0.1366 - val_accuracy: 0.9549\n",
            "Epoch 8/20\n",
            "29/29 [==============================] - 0s 4ms/step - loss: 0.0149 - accuracy: 0.9952 - val_loss: 0.1347 - val_accuracy: 0.9549\n",
            "Epoch 9/20\n",
            "29/29 [==============================] - 0s 5ms/step - loss: 0.0125 - accuracy: 0.9961 - val_loss: 0.1353 - val_accuracy: 0.9566\n",
            "Epoch 10/20\n",
            "29/29 [==============================] - 0s 4ms/step - loss: 0.0087 - accuracy: 0.9978 - val_loss: 0.1270 - val_accuracy: 0.9596\n",
            "Epoch 11/20\n",
            "29/29 [==============================] - 0s 5ms/step - loss: 0.0060 - accuracy: 0.9988 - val_loss: 0.1425 - val_accuracy: 0.9586\n",
            "Epoch 12/20\n",
            "29/29 [==============================] - 0s 4ms/step - loss: 0.0047 - accuracy: 0.9992 - val_loss: 0.1304 - val_accuracy: 0.9613\n",
            "Epoch 13/20\n",
            "29/29 [==============================] - 0s 5ms/step - loss: 0.0031 - accuracy: 0.9999 - val_loss: 0.1513 - val_accuracy: 0.9603\n",
            "Epoch 14/20\n",
            "29/29 [==============================] - 0s 5ms/step - loss: 0.0021 - accuracy: 0.9999 - val_loss: 0.1543 - val_accuracy: 0.9600\n",
            "Epoch 15/20\n",
            "29/29 [==============================] - 0s 5ms/step - loss: 0.0015 - accuracy: 1.0000 - val_loss: 0.1529 - val_accuracy: 0.9617\n",
            "Epoch 16/20\n",
            "29/29 [==============================] - 0s 5ms/step - loss: 0.0010 - accuracy: 1.0000 - val_loss: 0.1624 - val_accuracy: 0.9610\n",
            "Epoch 17/20\n",
            "29/29 [==============================] - 0s 5ms/step - loss: 8.0439e-04 - accuracy: 1.0000 - val_loss: 0.1587 - val_accuracy: 0.9623\n",
            "Epoch 18/20\n",
            "29/29 [==============================] - 0s 5ms/step - loss: 6.8809e-04 - accuracy: 1.0000 - val_loss: 0.1571 - val_accuracy: 0.9623\n",
            "Epoch 19/20\n",
            "29/29 [==============================] - 0s 5ms/step - loss: 5.5568e-04 - accuracy: 1.0000 - val_loss: 0.1708 - val_accuracy: 0.9610\n",
            "Epoch 20/20\n",
            "29/29 [==============================] - 0s 5ms/step - loss: 4.4103e-04 - accuracy: 1.0000 - val_loss: 0.1665 - val_accuracy: 0.9630\n"
          ],
          "name": "stdout"
        }
      ]
    },
    {
      "cell_type": "code",
      "metadata": {
        "id": "R9eS14mL6kAM",
        "colab_type": "code",
        "colab": {
          "base_uri": "https://localhost:8080/",
          "height": 295
        },
        "outputId": "1c2d33b4-5ba7-4407-afda-5a649e95b40d"
      },
      "source": [
        "plt.plot(history.history['accuracy'])\n",
        "plt.plot(history.history['val_accuracy'])\n",
        "plt.title('Model Accuracy')\n",
        "plt.ylabel('accuracy')\n",
        "plt.xlabel('epoch')\n",
        "plt.legend(['train', 'test'], loc='upper left')\n",
        "plt.show()"
      ],
      "execution_count": 86,
      "outputs": [
        {
          "output_type": "display_data",
          "data": {
            "image/png": "[encoded data removed]",
            "text/plain": [
              "<Figure size 432x288 with 1 Axes>"
            ]
          },
          "metadata": {
            "tags": [],
            "needs_background": "light"
          }
        }
      ]
    },
    {
      "cell_type": "code",
      "metadata": {
        "id": "WaZtCsKe8AF3",
        "colab_type": "code",
        "colab": {
          "base_uri": "https://localhost:8080/",
          "height": 295
        },
        "outputId": "ef595119-7fa5-456e-9f64-93eff084ec68"
      },
      "source": [
        "plt.plot(history.history['loss'])\n",
        "plt.plot(history.history['val_loss'])\n",
        "plt.title('Model Loss')\n",
        "plt.ylabel('loss')\n",
        "plt.xlabel('epoch')\n",
        "plt.legend(['train', 'test'], loc='upper left')\n",
        "plt.show()"
      ],
      "execution_count": 87,
      "outputs": [
        {
          "output_type": "display_data",
          "data": {
            "image/png": "[encoded data removed]",
            "text/plain": [
              "<Figure size 432x288 with 1 Axes>"
            ]
          },
          "metadata": {
            "tags": [],
            "needs_background": "light"
          }
        }
      ]
    },
    {
      "cell_type": "code",
      "metadata": {
        "id": "xsRhwmIy8Eat",
        "colab_type": "code",
        "colab": {
          "base_uri": "https://localhost:8080/",
          "height": 36
        },
        "outputId": "3821c40e-dd82-49ad-fe7f-a786e705d4a3"
      },
      "source": [
        "y_pred = model.predict(X_test)\n",
        "y_pred_class = np.argmax(y_pred, axis=1)\n",
        "y_pred_class"
      ],
      "execution_count": 88,
      "outputs": [
        {
          "output_type": "execute_result",
          "data": {
            "text/plain": [
              "array([2, 2, 2, ..., 5, 5, 5])"
            ]
          },
          "metadata": {
            "tags": []
          },
          "execution_count": 88
        }
      ]
    },
    {
      "cell_type": "code",
      "metadata": {
        "id": "v2UOmD_C9Bxc",
        "colab_type": "code",
        "colab": {
          "base_uri": "https://localhost:8080/",
          "height": 36
        },
        "outputId": "e3544c79-96f1-4f1c-87ae-52295b2148b1"
      },
      "source": [
        "y_test_class = np.argmax(y_test, axis=1)\n",
        "y_test_class"
      ],
      "execution_count": 89,
      "outputs": [
        {
          "output_type": "execute_result",
          "data": {
            "text/plain": [
              "array([2, 2, 2, ..., 5, 5, 5])"
            ]
          },
          "metadata": {
            "tags": []
          },
          "execution_count": 89
        }
      ]
    },
    {
      "cell_type": "code",
      "metadata": {
        "id": "wZ-aGQ4A9uty",
        "colab_type": "code",
        "colab": {}
      },
      "source": [
        "confusion = confusion_matrix(y_test_class, y_pred_class)\n",
        "acc = accuracy_score(y_test_class, y_pred_class)"
      ],
      "execution_count": 90,
      "outputs": []
    },
    {
      "cell_type": "code",
      "metadata": {
        "id": "K9llWnA4-kys",
        "colab_type": "code",
        "colab": {
          "base_uri": "https://localhost:8080/",
          "height": 129
        },
        "outputId": "cd606032-4fc3-40a5-814e-290ff15d25c3"
      },
      "source": [
        "confusion"
      ],
      "execution_count": 91,
      "outputs": [
        {
          "output_type": "execute_result",
          "data": {
            "text/plain": [
              "array([[534,   0,   0,   0,   0,   3],\n",
              "       [  2, 445,  43,   0,   0,   1],\n",
              "       [  0,  16, 516,   0,   0,   0],\n",
              "       [  0,   0,   0, 495,   0,   1],\n",
              "       [  0,   0,   0,   4, 407,   9],\n",
              "       [  0,   0,   0,  27,   3, 441]])"
            ]
          },
          "metadata": {
            "tags": []
          },
          "execution_count": 91
        }
      ]
    },
    {
      "cell_type": "code",
      "metadata": {
        "id": "antRZAmz-meL",
        "colab_type": "code",
        "colab": {
          "base_uri": "https://localhost:8080/",
          "height": 36
        },
        "outputId": "e2480dbb-2f0c-4457-be58-e7e2524a9669"
      },
      "source": [
        "acc"
      ],
      "execution_count": 92,
      "outputs": [
        {
          "output_type": "execute_result",
          "data": {
            "text/plain": [
              "0.9630132337970818"
            ]
          },
          "metadata": {
            "tags": []
          },
          "execution_count": 92
        }
      ]
    },
    {
      "cell_type": "code",
      "metadata": {
        "id": "aHDT78RQ-oVD",
        "colab_type": "code",
        "colab": {}
      },
      "source": [
        ""
      ],
      "execution_count": 92,
      "outputs": []
    }
  ]
}